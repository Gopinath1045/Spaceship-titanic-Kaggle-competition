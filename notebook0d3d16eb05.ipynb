{
 "cells": [
  {
   "cell_type": "code",
   "execution_count": 1,
   "id": "1568e2f8",
   "metadata": {
    "_cell_guid": "b1076dfc-b9ad-4769-8c92-a6c4dae69d19",
    "_uuid": "8f2839f25d086af736a60e9eeb907d3b93b6e0e5",
    "execution": {
     "iopub.execute_input": "2022-03-09T14:20:12.718093Z",
     "iopub.status.busy": "2022-03-09T14:20:12.716285Z",
     "iopub.status.idle": "2022-03-09T14:20:12.731265Z",
     "shell.execute_reply": "2022-03-09T14:20:12.732021Z",
     "shell.execute_reply.started": "2022-03-09T14:13:58.799695Z"
    },
    "papermill": {
     "duration": 0.071686,
     "end_time": "2022-03-09T14:20:12.732402",
     "exception": false,
     "start_time": "2022-03-09T14:20:12.660716",
     "status": "completed"
    },
    "tags": []
   },
   "outputs": [
    {
     "name": "stdout",
     "output_type": "stream",
     "text": [
      "/kaggle/input/spaceship-titanic/sample_submission.csv\n",
      "/kaggle/input/spaceship-titanic/train.csv\n",
      "/kaggle/input/spaceship-titanic/test.csv\n"
     ]
    }
   ],
   "source": [
    "# This Python 3 environment comes with many helpful analytics libraries installed\n",
    "# It is defined by the kaggle/python Docker image: https://github.com/kaggle/docker-python\n",
    "# For example, here's several helpful packages to load\n",
    "\n",
    "import numpy as np # linear algebra\n",
    "import pandas as pd # data processing, CSV file I/O (e.g. pd.read_csv)\n",
    "\n",
    "# Input data files are available in the read-only \"../input/\" directory\n",
    "# For example, running this (by clicking run or pressing Shift+Enter) will list all files under the input directory\n",
    "\n",
    "import os\n",
    "for dirname, _, filenames in os.walk('/kaggle/input'):\n",
    "    for filename in filenames:\n",
    "        print(os.path.join(dirname, filename))\n",
    "\n",
    "# You can write up to 20GB to the current directory (/kaggle/working/) that gets preserved as output when you create a version using \"Save & Run All\" \n",
    "# You can also write temporary files to /kaggle/temp/, but they won't be saved outside of the current session"
   ]
  },
  {
   "cell_type": "markdown",
   "id": "b1d644fa",
   "metadata": {
    "papermill": {
     "duration": 0.051108,
     "end_time": "2022-03-09T14:20:12.834801",
     "exception": false,
     "start_time": "2022-03-09T14:20:12.783693",
     "status": "completed"
    },
    "tags": []
   },
   "source": [
    "#import require libaries"
   ]
  },
  {
   "cell_type": "markdown",
   "id": "586ea210",
   "metadata": {
    "papermill": {
     "duration": 0.049921,
     "end_time": "2022-03-09T14:20:12.936253",
     "exception": false,
     "start_time": "2022-03-09T14:20:12.886332",
     "status": "completed"
    },
    "tags": []
   },
   "source": []
  },
  {
   "cell_type": "code",
   "execution_count": 2,
   "id": "aab7a4e6",
   "metadata": {
    "execution": {
     "iopub.execute_input": "2022-03-09T14:20:13.044507Z",
     "iopub.status.busy": "2022-03-09T14:20:13.043659Z",
     "iopub.status.idle": "2022-03-09T14:20:14.028947Z",
     "shell.execute_reply": "2022-03-09T14:20:14.028287Z",
     "shell.execute_reply.started": "2022-03-09T14:13:58.838732Z"
    },
    "papermill": {
     "duration": 1.042311,
     "end_time": "2022-03-09T14:20:14.029138",
     "exception": false,
     "start_time": "2022-03-09T14:20:12.986827",
     "status": "completed"
    },
    "tags": []
   },
   "outputs": [],
   "source": [
    "import pandas as pd\n",
    "import numpy as np\n",
    "import seaborn as sns\n",
    "import matplotlib.pyplot as plt\n",
    "%matplotlib inline\n",
    "pd.pandas.set_option('display.max_columns',None)"
   ]
  },
  {
   "cell_type": "code",
   "execution_count": 3,
   "id": "8cf5d6a8",
   "metadata": {
    "execution": {
     "iopub.execute_input": "2022-03-09T14:20:14.134424Z",
     "iopub.status.busy": "2022-03-09T14:20:14.133703Z",
     "iopub.status.idle": "2022-03-09T14:20:14.137617Z",
     "shell.execute_reply": "2022-03-09T14:20:14.138240Z",
     "shell.execute_reply.started": "2022-03-09T14:13:59.889685Z"
    },
    "papermill": {
     "duration": 0.059678,
     "end_time": "2022-03-09T14:20:14.138415",
     "exception": false,
     "start_time": "2022-03-09T14:20:14.078737",
     "status": "completed"
    },
    "tags": []
   },
   "outputs": [
    {
     "name": "stdout",
     "output_type": "stream",
     "text": [
      "/kaggle/input/spaceship-titanic/sample_submission.csv\n",
      "/kaggle/input/spaceship-titanic/train.csv\n",
      "/kaggle/input/spaceship-titanic/test.csv\n"
     ]
    }
   ],
   "source": [
    "import os\n",
    "for dirname, _, filenames in os.walk('/kaggle/input'):\n",
    "    for filename in filenames:\n",
    "        print(os.path.join(dirname, filename))"
   ]
  },
  {
   "cell_type": "markdown",
   "id": "d787fd90",
   "metadata": {
    "papermill": {
     "duration": 0.049406,
     "end_time": "2022-03-09T14:20:14.237666",
     "exception": false,
     "start_time": "2022-03-09T14:20:14.188260",
     "status": "completed"
    },
    "tags": []
   },
   "source": [
    "#import the dataset"
   ]
  },
  {
   "cell_type": "code",
   "execution_count": 4,
   "id": "55a864b8",
   "metadata": {
    "execution": {
     "iopub.execute_input": "2022-03-09T14:20:14.346750Z",
     "iopub.status.busy": "2022-03-09T14:20:14.345738Z",
     "iopub.status.idle": "2022-03-09T14:20:14.454466Z",
     "shell.execute_reply": "2022-03-09T14:20:14.455263Z",
     "shell.execute_reply.started": "2022-03-09T14:13:59.896719Z"
    },
    "papermill": {
     "duration": 0.16573,
     "end_time": "2022-03-09T14:20:14.455572",
     "exception": false,
     "start_time": "2022-03-09T14:20:14.289842",
     "status": "completed"
    },
    "tags": []
   },
   "outputs": [
    {
     "name": "stdout",
     "output_type": "stream",
     "text": [
      "(8693, 14)\n"
     ]
    },
    {
     "data": {
      "text/html": [
       "<div>\n",
       "<style scoped>\n",
       "    .dataframe tbody tr th:only-of-type {\n",
       "        vertical-align: middle;\n",
       "    }\n",
       "\n",
       "    .dataframe tbody tr th {\n",
       "        vertical-align: top;\n",
       "    }\n",
       "\n",
       "    .dataframe thead th {\n",
       "        text-align: right;\n",
       "    }\n",
       "</style>\n",
       "<table border=\"1\" class=\"dataframe\">\n",
       "  <thead>\n",
       "    <tr style=\"text-align: right;\">\n",
       "      <th></th>\n",
       "      <th>PassengerId</th>\n",
       "      <th>HomePlanet</th>\n",
       "      <th>CryoSleep</th>\n",
       "      <th>Cabin</th>\n",
       "      <th>Destination</th>\n",
       "      <th>Age</th>\n",
       "      <th>VIP</th>\n",
       "      <th>RoomService</th>\n",
       "      <th>FoodCourt</th>\n",
       "      <th>ShoppingMall</th>\n",
       "      <th>Spa</th>\n",
       "      <th>VRDeck</th>\n",
       "      <th>Name</th>\n",
       "      <th>Transported</th>\n",
       "    </tr>\n",
       "  </thead>\n",
       "  <tbody>\n",
       "    <tr>\n",
       "      <th>0</th>\n",
       "      <td>0001_01</td>\n",
       "      <td>Europa</td>\n",
       "      <td>False</td>\n",
       "      <td>B/0/P</td>\n",
       "      <td>TRAPPIST-1e</td>\n",
       "      <td>39.0</td>\n",
       "      <td>False</td>\n",
       "      <td>0.0</td>\n",
       "      <td>0.0</td>\n",
       "      <td>0.0</td>\n",
       "      <td>0.0</td>\n",
       "      <td>0.0</td>\n",
       "      <td>Maham Ofracculy</td>\n",
       "      <td>False</td>\n",
       "    </tr>\n",
       "    <tr>\n",
       "      <th>1</th>\n",
       "      <td>0002_01</td>\n",
       "      <td>Earth</td>\n",
       "      <td>False</td>\n",
       "      <td>F/0/S</td>\n",
       "      <td>TRAPPIST-1e</td>\n",
       "      <td>24.0</td>\n",
       "      <td>False</td>\n",
       "      <td>109.0</td>\n",
       "      <td>9.0</td>\n",
       "      <td>25.0</td>\n",
       "      <td>549.0</td>\n",
       "      <td>44.0</td>\n",
       "      <td>Juanna Vines</td>\n",
       "      <td>True</td>\n",
       "    </tr>\n",
       "    <tr>\n",
       "      <th>2</th>\n",
       "      <td>0003_01</td>\n",
       "      <td>Europa</td>\n",
       "      <td>False</td>\n",
       "      <td>A/0/S</td>\n",
       "      <td>TRAPPIST-1e</td>\n",
       "      <td>58.0</td>\n",
       "      <td>True</td>\n",
       "      <td>43.0</td>\n",
       "      <td>3576.0</td>\n",
       "      <td>0.0</td>\n",
       "      <td>6715.0</td>\n",
       "      <td>49.0</td>\n",
       "      <td>Altark Susent</td>\n",
       "      <td>False</td>\n",
       "    </tr>\n",
       "    <tr>\n",
       "      <th>3</th>\n",
       "      <td>0003_02</td>\n",
       "      <td>Europa</td>\n",
       "      <td>False</td>\n",
       "      <td>A/0/S</td>\n",
       "      <td>TRAPPIST-1e</td>\n",
       "      <td>33.0</td>\n",
       "      <td>False</td>\n",
       "      <td>0.0</td>\n",
       "      <td>1283.0</td>\n",
       "      <td>371.0</td>\n",
       "      <td>3329.0</td>\n",
       "      <td>193.0</td>\n",
       "      <td>Solam Susent</td>\n",
       "      <td>False</td>\n",
       "    </tr>\n",
       "    <tr>\n",
       "      <th>4</th>\n",
       "      <td>0004_01</td>\n",
       "      <td>Earth</td>\n",
       "      <td>False</td>\n",
       "      <td>F/1/S</td>\n",
       "      <td>TRAPPIST-1e</td>\n",
       "      <td>16.0</td>\n",
       "      <td>False</td>\n",
       "      <td>303.0</td>\n",
       "      <td>70.0</td>\n",
       "      <td>151.0</td>\n",
       "      <td>565.0</td>\n",
       "      <td>2.0</td>\n",
       "      <td>Willy Santantines</td>\n",
       "      <td>True</td>\n",
       "    </tr>\n",
       "  </tbody>\n",
       "</table>\n",
       "</div>"
      ],
      "text/plain": [
       "  PassengerId HomePlanet CryoSleep  Cabin  Destination   Age    VIP  \\\n",
       "0     0001_01     Europa     False  B/0/P  TRAPPIST-1e  39.0  False   \n",
       "1     0002_01      Earth     False  F/0/S  TRAPPIST-1e  24.0  False   \n",
       "2     0003_01     Europa     False  A/0/S  TRAPPIST-1e  58.0   True   \n",
       "3     0003_02     Europa     False  A/0/S  TRAPPIST-1e  33.0  False   \n",
       "4     0004_01      Earth     False  F/1/S  TRAPPIST-1e  16.0  False   \n",
       "\n",
       "   RoomService  FoodCourt  ShoppingMall     Spa  VRDeck               Name  \\\n",
       "0          0.0        0.0           0.0     0.0     0.0    Maham Ofracculy   \n",
       "1        109.0        9.0          25.0   549.0    44.0       Juanna Vines   \n",
       "2         43.0     3576.0           0.0  6715.0    49.0      Altark Susent   \n",
       "3          0.0     1283.0         371.0  3329.0   193.0       Solam Susent   \n",
       "4        303.0       70.0         151.0   565.0     2.0  Willy Santantines   \n",
       "\n",
       "   Transported  \n",
       "0        False  \n",
       "1         True  \n",
       "2        False  \n",
       "3        False  \n",
       "4         True  "
      ]
     },
     "execution_count": 4,
     "metadata": {},
     "output_type": "execute_result"
    }
   ],
   "source": [
    "df1=pd.read_csv(\"/kaggle/input/spaceship-titanic/train.csv\")\n",
    "df2=pd.read_csv(\"/kaggle/input/spaceship-titanic/test.csv\")\n",
    "print(df1.shape)\n",
    "df1.head()"
   ]
  },
  {
   "cell_type": "markdown",
   "id": "cbc2b4fb",
   "metadata": {
    "execution": {
     "iopub.execute_input": "2022-03-09T11:29:50.595395Z",
     "iopub.status.busy": "2022-03-09T11:29:50.595091Z",
     "iopub.status.idle": "2022-03-09T11:29:50.59891Z",
     "shell.execute_reply": "2022-03-09T11:29:50.59838Z",
     "shell.execute_reply.started": "2022-03-09T11:29:50.595352Z"
    },
    "papermill": {
     "duration": 0.053493,
     "end_time": "2022-03-09T14:20:14.562327",
     "exception": false,
     "start_time": "2022-03-09T14:20:14.508834",
     "status": "completed"
    },
    "tags": []
   },
   "source": [
    "#here y is Transported (dependent)\n",
    "#first we handle train data(df1)"
   ]
  },
  {
   "cell_type": "markdown",
   "id": "2437bd08",
   "metadata": {
    "papermill": {
     "duration": 0.052078,
     "end_time": "2022-03-09T14:20:14.665531",
     "exception": false,
     "start_time": "2022-03-09T14:20:14.613453",
     "status": "completed"
    },
    "tags": []
   },
   "source": []
  },
  {
   "cell_type": "markdown",
   "id": "21f9b05f",
   "metadata": {
    "execution": {
     "iopub.execute_input": "2022-03-09T11:29:57.969655Z",
     "iopub.status.busy": "2022-03-09T11:29:57.969199Z",
     "iopub.status.idle": "2022-03-09T11:29:58.390739Z",
     "shell.execute_reply": "2022-03-09T11:29:58.38962Z",
     "shell.execute_reply.started": "2022-03-09T11:29:57.969619Z"
    },
    "papermill": {
     "duration": 0.0519,
     "end_time": "2022-03-09T14:20:14.769954",
     "exception": false,
     "start_time": "2022-03-09T14:20:14.718054",
     "status": "completed"
    },
    "tags": []
   },
   "source": [
    "#to see the null values by using heat map\n",
    "sns.heatmap(df1.isnull(),yticklabels=False, cbar=False,cmap='viridis')"
   ]
  },
  {
   "cell_type": "code",
   "execution_count": 5,
   "id": "25b4c96d",
   "metadata": {
    "execution": {
     "iopub.execute_input": "2022-03-09T14:20:14.889952Z",
     "iopub.status.busy": "2022-03-09T14:20:14.888932Z",
     "iopub.status.idle": "2022-03-09T14:20:14.914350Z",
     "shell.execute_reply": "2022-03-09T14:20:14.914859Z",
     "shell.execute_reply.started": "2022-03-09T14:14:00.000687Z"
    },
    "papermill": {
     "duration": 0.08986,
     "end_time": "2022-03-09T14:20:14.915072",
     "exception": false,
     "start_time": "2022-03-09T14:20:14.825212",
     "status": "completed"
    },
    "tags": []
   },
   "outputs": [
    {
     "name": "stdout",
     "output_type": "stream",
     "text": [
      "HomePlanet: 0.0231% missing values\n",
      "CryoSleep: 0.025% missing values\n",
      "Cabin: 0.0229% missing values\n",
      "Destination: 0.0209% missing values\n",
      "VIP: 0.0234% missing values\n",
      "Name: 0.023% missing values\n"
     ]
    }
   ],
   "source": [
    "## Let us capture all the nan values\n",
    "## First lets handle Categorical features which are missing\n",
    "features_nan=[feature for feature in df1.columns if df1[feature].isnull().sum()>1 and df1[feature].dtypes=='O']\n",
    "\n",
    "for feature in features_nan:\n",
    "    print(\"{}: {}% missing values\".format(feature,np.round(df1[feature].isnull().mean(),4)))"
   ]
  },
  {
   "cell_type": "code",
   "execution_count": 6,
   "id": "5dc61006",
   "metadata": {
    "execution": {
     "iopub.execute_input": "2022-03-09T14:20:15.029129Z",
     "iopub.status.busy": "2022-03-09T14:20:15.026936Z",
     "iopub.status.idle": "2022-03-09T14:20:15.640376Z",
     "shell.execute_reply": "2022-03-09T14:20:15.640881Z",
     "shell.execute_reply.started": "2022-03-09T14:14:00.021957Z"
    },
    "papermill": {
     "duration": 0.669876,
     "end_time": "2022-03-09T14:20:15.641084",
     "exception": false,
     "start_time": "2022-03-09T14:20:14.971208",
     "status": "completed"
    },
    "tags": []
   },
   "outputs": [
    {
     "data": {
      "text/plain": [
       "<AxesSubplot:>"
      ]
     },
     "execution_count": 6,
     "metadata": {},
     "output_type": "execute_result"
    },
    {
     "data": {
      "image/png": "[encoded data removed]",
      "text/plain": [
       "<Figure size 432x288 with 2 Axes>"
      ]
     },
     "metadata": {
      "needs_background": "light"
     },
     "output_type": "display_data"
    }
   ],
   "source": [
    "#will see collinarity between data columns\n",
    "sns.heatmap(df1.corr(),annot=True)"
   ]
  },
  {
   "cell_type": "markdown",
   "id": "e3fc68b6",
   "metadata": {
    "execution": {
     "iopub.execute_input": "2022-03-09T11:30:58.340971Z",
     "iopub.status.busy": "2022-03-09T11:30:58.340053Z",
     "iopub.status.idle": "2022-03-09T11:30:58.344992Z",
     "shell.execute_reply": "2022-03-09T11:30:58.344337Z",
     "shell.execute_reply.started": "2022-03-09T11:30:58.340911Z"
    },
    "papermill": {
     "duration": 0.053806,
     "end_time": "2022-03-09T14:20:15.748688",
     "exception": false,
     "start_time": "2022-03-09T14:20:15.694882",
     "status": "completed"
    },
    "tags": []
   },
   "source": [
    "#handle missing values"
   ]
  },
  {
   "cell_type": "code",
   "execution_count": 7,
   "id": "16613426",
   "metadata": {
    "execution": {
     "iopub.execute_input": "2022-03-09T14:20:15.861364Z",
     "iopub.status.busy": "2022-03-09T14:20:15.860651Z",
     "iopub.status.idle": "2022-03-09T14:20:15.908453Z",
     "shell.execute_reply": "2022-03-09T14:20:15.907807Z",
     "shell.execute_reply.started": "2022-03-09T14:14:00.467528Z"
    },
    "papermill": {
     "duration": 0.106739,
     "end_time": "2022-03-09T14:20:15.908599",
     "exception": false,
     "start_time": "2022-03-09T14:20:15.801860",
     "status": "completed"
    },
    "tags": []
   },
   "outputs": [],
   "source": [
    "df1['HomePlanet'].fillna(df1['HomePlanet'].mode()[0], inplace=True)\n",
    "df2['HomePlanet'].fillna(df2['HomePlanet'].mode()[0], inplace=True)\n",
    "df1['CryoSleep'].fillna(df1['CryoSleep'].mode()[0], inplace=True)\n",
    "df2['CryoSleep'].fillna(df2['CryoSleep'].mode()[0], inplace=True)\n",
    "df1['Age'].fillna(df1['Age'].mean(), inplace=True)\n",
    "df2['Age'].fillna(df2['Age'].mean(), inplace=True)\n",
    "df1['VIP'].fillna(df1['VIP'].mode()[0], inplace=True)\n",
    "df2['VIP'].fillna(df2['VIP'].mode()[0], inplace=True)\n",
    "df1['RoomService'].fillna(df1['RoomService'].mean(), inplace=True)\n",
    "df2['RoomService'].fillna(df2['RoomService'].mean(), inplace=True)\n",
    "\n",
    "df1['PassengerId']=df1['PassengerId'].astype(int)\n",
    "df2['PassengerId']=df2['PassengerId'].astype(int)\n",
    "df1['VRDeck'].fillna(df1['VRDeck'].mean(), inplace=True)\n",
    "df2['VRDeck'].fillna(df2['VRDeck'].mean(), inplace=True)\n",
    "df1['Spa'].fillna(df1['Spa'].mean(), inplace=True)\n",
    "df2['Spa'].fillna(df2['Spa'].mean(), inplace=True)\n",
    "df1['Destination'].fillna(df1['Destination'].mode()[0], inplace=True)\n",
    "df2['Destination'].fillna(df2['Destination'].mode()[0], inplace=True)\n",
    "df1['FoodCourt'].fillna(df1['FoodCourt'].mean(), inplace=True)\n",
    "df2['FoodCourt'].fillna(df2['FoodCourt'].mean(), inplace=True)\n",
    "df1['ShoppingMall'].fillna(df1['ShoppingMall'].mean(), inplace=True)\n",
    "df2['ShoppingMall'].fillna(df2['ShoppingMall'].mean(), inplace=True)"
   ]
  },
  {
   "cell_type": "code",
   "execution_count": 8,
   "id": "a362ebf7",
   "metadata": {
    "execution": {
     "iopub.execute_input": "2022-03-09T14:20:16.019579Z",
     "iopub.status.busy": "2022-03-09T14:20:16.018882Z",
     "iopub.status.idle": "2022-03-09T14:20:16.028117Z",
     "shell.execute_reply": "2022-03-09T14:20:16.028648Z",
     "shell.execute_reply.started": "2022-03-09T14:14:00.509818Z"
    },
    "papermill": {
     "duration": 0.065969,
     "end_time": "2022-03-09T14:20:16.028826",
     "exception": false,
     "start_time": "2022-03-09T14:20:15.962857",
     "status": "completed"
    },
    "tags": []
   },
   "outputs": [],
   "source": [
    "#no need of Name column to train the data\n",
    "#so we drop the name column\n",
    "df1.drop(['Name'],axis=1, inplace=True)\n",
    "df2.drop(['Name'],axis=1, inplace=True)"
   ]
  },
  {
   "cell_type": "code",
   "execution_count": 9,
   "id": "6b6b4941",
   "metadata": {
    "execution": {
     "iopub.execute_input": "2022-03-09T14:20:16.139361Z",
     "iopub.status.busy": "2022-03-09T14:20:16.138691Z",
     "iopub.status.idle": "2022-03-09T14:20:16.145622Z",
     "shell.execute_reply": "2022-03-09T14:20:16.146107Z",
     "shell.execute_reply.started": "2022-03-09T14:14:00.522065Z"
    },
    "papermill": {
     "duration": 0.064179,
     "end_time": "2022-03-09T14:20:16.146299",
     "exception": false,
     "start_time": "2022-03-09T14:20:16.082120",
     "status": "completed"
    },
    "tags": []
   },
   "outputs": [],
   "source": [
    "#no need of passenger id  column to train the data\n",
    "#so we drop the passenger column\n",
    "df1.drop(['PassengerId'],axis=1, inplace=True)\n",
    "df2.drop(['PassengerId'],axis=1, inplace=True)"
   ]
  },
  {
   "cell_type": "code",
   "execution_count": 10,
   "id": "3f758a8f",
   "metadata": {
    "execution": {
     "iopub.execute_input": "2022-03-09T14:20:16.258388Z",
     "iopub.status.busy": "2022-03-09T14:20:16.257703Z",
     "iopub.status.idle": "2022-03-09T14:20:16.260683Z",
     "shell.execute_reply": "2022-03-09T14:20:16.261160Z",
     "shell.execute_reply.started": "2022-03-09T14:14:00.542400Z"
    },
    "papermill": {
     "duration": 0.06202,
     "end_time": "2022-03-09T14:20:16.261336",
     "exception": false,
     "start_time": "2022-03-09T14:20:16.199316",
     "status": "completed"
    },
    "tags": []
   },
   "outputs": [],
   "source": [
    "#we can only Cabin column is not fixed , we will try to fix that data also"
   ]
  },
  {
   "cell_type": "code",
   "execution_count": 11,
   "id": "4f448740",
   "metadata": {
    "execution": {
     "iopub.execute_input": "2022-03-09T14:20:16.371489Z",
     "iopub.status.busy": "2022-03-09T14:20:16.370806Z",
     "iopub.status.idle": "2022-03-09T14:20:16.402533Z",
     "shell.execute_reply": "2022-03-09T14:20:16.403071Z",
     "shell.execute_reply.started": "2022-03-09T14:14:00.562763Z"
    },
    "papermill": {
     "duration": 0.088717,
     "end_time": "2022-03-09T14:20:16.403273",
     "exception": false,
     "start_time": "2022-03-09T14:20:16.314556",
     "status": "completed"
    },
    "tags": []
   },
   "outputs": [],
   "source": [
    "# split column and add new columns to df\n",
    "df1[['Deck', 'Num', 'Side']] = df1['Cabin'].str.split('/', expand=True)\n",
    "df2[['Deck', 'Num', 'Side']] = df2['Cabin'].str.split('/', expand=True)"
   ]
  },
  {
   "cell_type": "code",
   "execution_count": 12,
   "id": "2de8e6e2",
   "metadata": {
    "execution": {
     "iopub.execute_input": "2022-03-09T14:20:16.513352Z",
     "iopub.status.busy": "2022-03-09T14:20:16.512678Z",
     "iopub.status.idle": "2022-03-09T14:20:16.522246Z",
     "shell.execute_reply": "2022-03-09T14:20:16.522744Z",
     "shell.execute_reply.started": "2022-03-09T14:14:00.597829Z"
    },
    "papermill": {
     "duration": 0.06626,
     "end_time": "2022-03-09T14:20:16.522950",
     "exception": false,
     "start_time": "2022-03-09T14:20:16.456690",
     "status": "completed"
    },
    "tags": []
   },
   "outputs": [],
   "source": [
    "#drop cabin column\n",
    "df1.drop(['Cabin'],axis=1, inplace=True)\n",
    "df2.drop(['Cabin'],axis=1, inplace=True)"
   ]
  },
  {
   "cell_type": "code",
   "execution_count": 13,
   "id": "b3843e8e",
   "metadata": {
    "execution": {
     "iopub.execute_input": "2022-03-09T14:20:16.652207Z",
     "iopub.status.busy": "2022-03-09T14:20:16.651518Z",
     "iopub.status.idle": "2022-03-09T14:20:16.661618Z",
     "shell.execute_reply": "2022-03-09T14:20:16.660893Z",
     "shell.execute_reply.started": "2022-03-09T14:14:00.616644Z"
    },
    "papermill": {
     "duration": 0.084519,
     "end_time": "2022-03-09T14:20:16.661764",
     "exception": false,
     "start_time": "2022-03-09T14:20:16.577245",
     "status": "completed"
    },
    "tags": []
   },
   "outputs": [],
   "source": [
    "df1['Side'].fillna(df1['Side'].mode()[0], inplace=True)\n",
    "df2['Side'].fillna(df2['Side'].mode()[0], inplace=True)\n",
    "df1['Deck'].fillna(df1['Deck'].mode()[0], inplace=True)\n",
    "df2['Deck'].fillna(df2['Deck'].mode()[0], inplace=True)\n",
    "df1['Num'].fillna(df1['Num'].median(), inplace=True)\n",
    "df2['Num'].fillna(df2['Num'].median(), inplace=True)"
   ]
  },
  {
   "cell_type": "code",
   "execution_count": 14,
   "id": "00212f26",
   "metadata": {
    "execution": {
     "iopub.execute_input": "2022-03-09T14:20:16.775799Z",
     "iopub.status.busy": "2022-03-09T14:20:16.775117Z",
     "iopub.status.idle": "2022-03-09T14:20:16.777631Z",
     "shell.execute_reply": "2022-03-09T14:20:16.778231Z",
     "shell.execute_reply.started": "2022-03-09T14:14:00.645664Z"
    },
    "papermill": {
     "duration": 0.063396,
     "end_time": "2022-03-09T14:20:16.778418",
     "exception": false,
     "start_time": "2022-03-09T14:20:16.715022",
     "status": "completed"
    },
    "tags": []
   },
   "outputs": [
    {
     "data": {
      "text/plain": [
       "HomePlanet       object\n",
       "CryoSleep          bool\n",
       "Destination      object\n",
       "Age             float64\n",
       "VIP                bool\n",
       "RoomService     float64\n",
       "FoodCourt       float64\n",
       "ShoppingMall    float64\n",
       "Spa             float64\n",
       "VRDeck          float64\n",
       "Transported        bool\n",
       "Deck             object\n",
       "Num              object\n",
       "Side             object\n",
       "dtype: object"
      ]
     },
     "execution_count": 14,
     "metadata": {},
     "output_type": "execute_result"
    }
   ],
   "source": [
    "df1.dtypes"
   ]
  },
  {
   "cell_type": "markdown",
   "id": "e334f342",
   "metadata": {
    "papermill": {
     "duration": 0.054293,
     "end_time": "2022-03-09T14:20:16.886035",
     "exception": false,
     "start_time": "2022-03-09T14:20:16.831742",
     "status": "completed"
    },
    "tags": []
   },
   "source": [
    "#we convert using label encoder and map method"
   ]
  },
  {
   "cell_type": "code",
   "execution_count": 15,
   "id": "d14f3095",
   "metadata": {
    "execution": {
     "iopub.execute_input": "2022-03-09T14:20:17.001437Z",
     "iopub.status.busy": "2022-03-09T14:20:16.999692Z",
     "iopub.status.idle": "2022-03-09T14:20:17.136027Z",
     "shell.execute_reply": "2022-03-09T14:20:17.135334Z",
     "shell.execute_reply.started": "2022-03-09T14:14:00.655192Z"
    },
    "papermill": {
     "duration": 0.193036,
     "end_time": "2022-03-09T14:20:17.136180",
     "exception": false,
     "start_time": "2022-03-09T14:20:16.943144",
     "status": "completed"
    },
    "tags": []
   },
   "outputs": [],
   "source": [
    "from sklearn.preprocessing import LabelEncoder\n",
    "label_encoder= LabelEncoder()"
   ]
  },
  {
   "cell_type": "code",
   "execution_count": 16,
   "id": "73856294",
   "metadata": {
    "execution": {
     "iopub.execute_input": "2022-03-09T14:20:17.249270Z",
     "iopub.status.busy": "2022-03-09T14:20:17.248378Z",
     "iopub.status.idle": "2022-03-09T14:20:17.254426Z",
     "shell.execute_reply": "2022-03-09T14:20:17.255039Z",
     "shell.execute_reply.started": "2022-03-09T14:14:00.817312Z"
    },
    "papermill": {
     "duration": 0.065122,
     "end_time": "2022-03-09T14:20:17.255226",
     "exception": false,
     "start_time": "2022-03-09T14:20:17.190104",
     "status": "completed"
    },
    "tags": []
   },
   "outputs": [
    {
     "data": {
      "text/plain": [
       "LabelEncoder()"
      ]
     },
     "execution_count": 16,
     "metadata": {},
     "output_type": "execute_result"
    }
   ],
   "source": [
    "label_encoder"
   ]
  },
  {
   "cell_type": "markdown",
   "id": "53e66a27",
   "metadata": {
    "papermill": {
     "duration": 0.054371,
     "end_time": "2022-03-09T14:20:17.364654",
     "exception": false,
     "start_time": "2022-03-09T14:20:17.310283",
     "status": "completed"
    },
    "tags": []
   },
   "source": []
  },
  {
   "cell_type": "markdown",
   "id": "393daf57",
   "metadata": {
    "papermill": {
     "duration": 0.053827,
     "end_time": "2022-03-09T14:20:17.473701",
     "exception": false,
     "start_time": "2022-03-09T14:20:17.419874",
     "status": "completed"
    },
    "tags": []
   },
   "source": [
    "#label encoder converts default into int\n",
    "df1['HomePlanet']=label_encoder.fit_transform(df1['HomePlanet'])"
   ]
  },
  {
   "cell_type": "code",
   "execution_count": 17,
   "id": "a2b41851",
   "metadata": {
    "execution": {
     "iopub.execute_input": "2022-03-09T14:20:17.585300Z",
     "iopub.status.busy": "2022-03-09T14:20:17.584601Z",
     "iopub.status.idle": "2022-03-09T14:20:17.609951Z",
     "shell.execute_reply": "2022-03-09T14:20:17.610489Z",
     "shell.execute_reply.started": "2022-03-09T14:14:00.827023Z"
    },
    "papermill": {
     "duration": 0.082908,
     "end_time": "2022-03-09T14:20:17.610685",
     "exception": false,
     "start_time": "2022-03-09T14:20:17.527777",
     "status": "completed"
    },
    "tags": []
   },
   "outputs": [],
   "source": [
    "#label encoder converts default into int\n",
    "df1['HomePlanet']=label_encoder.fit_transform(df1['HomePlanet'])\n",
    "df1['CryoSleep']=label_encoder.fit_transform(df1['CryoSleep']).astype(int)\n",
    "\n",
    "df1['Destination']=label_encoder.fit_transform(df1['Destination'])\n",
    "df1['VIP']=label_encoder.fit_transform(df1['VIP'])\n",
    "df1['Deck']=label_encoder.fit_transform(df1['Deck'])\n",
    "df2['Deck']=label_encoder.fit_transform(df2['Deck'])\n",
    "df1['Side']=label_encoder.fit_transform(df1['Side'])\n",
    "df1['Num']=df1['Num'].astype(int)"
   ]
  },
  {
   "cell_type": "code",
   "execution_count": 18,
   "id": "98969178",
   "metadata": {
    "execution": {
     "iopub.execute_input": "2022-03-09T14:20:17.723926Z",
     "iopub.status.busy": "2022-03-09T14:20:17.723113Z",
     "iopub.status.idle": "2022-03-09T14:20:17.737297Z",
     "shell.execute_reply": "2022-03-09T14:20:17.737885Z",
     "shell.execute_reply.started": "2022-03-09T14:14:00.853281Z"
    },
    "papermill": {
     "duration": 0.072087,
     "end_time": "2022-03-09T14:20:17.738111",
     "exception": false,
     "start_time": "2022-03-09T14:20:17.666024",
     "status": "completed"
    },
    "tags": []
   },
   "outputs": [],
   "source": [
    "df2['HomePlanet']=label_encoder.fit_transform(df2['HomePlanet'])\n",
    "df2['CryoSleep']=label_encoder.fit_transform(df2['CryoSleep'])\n",
    "\n",
    "df2['Destination']=label_encoder.fit_transform(df2['Destination'])\n",
    "df2['VIP']=label_encoder.fit_transform(df2['VIP'])\n",
    "df2['Side']=label_encoder.fit_transform(df2['Side'])\n",
    "df2['Num']=df2['Num'].astype(int)"
   ]
  },
  {
   "cell_type": "markdown",
   "id": "dafe6698",
   "metadata": {
    "papermill": {
     "duration": 0.054254,
     "end_time": "2022-03-09T14:20:17.849271",
     "exception": false,
     "start_time": "2022-03-09T14:20:17.795017",
     "status": "completed"
    },
    "tags": []
   },
   "source": [
    "Define X and y values"
   ]
  },
  {
   "cell_type": "code",
   "execution_count": 19,
   "id": "4dd8ed5b",
   "metadata": {
    "execution": {
     "iopub.execute_input": "2022-03-09T14:20:17.964898Z",
     "iopub.status.busy": "2022-03-09T14:20:17.964258Z",
     "iopub.status.idle": "2022-03-09T14:20:17.970934Z",
     "shell.execute_reply": "2022-03-09T14:20:17.971474Z",
     "shell.execute_reply.started": "2022-03-09T14:14:00.866997Z"
    },
    "papermill": {
     "duration": 0.067109,
     "end_time": "2022-03-09T14:20:17.971705",
     "exception": false,
     "start_time": "2022-03-09T14:20:17.904596",
     "status": "completed"
    },
    "tags": []
   },
   "outputs": [],
   "source": [
    "#transportted is the y value or dependent variable\n",
    "y=df1['Transported']\n",
    "X=df1.drop(['Transported'],axis=1)"
   ]
  },
  {
   "cell_type": "code",
   "execution_count": 20,
   "id": "aac7e95a",
   "metadata": {
    "execution": {
     "iopub.execute_input": "2022-03-09T14:20:18.085221Z",
     "iopub.status.busy": "2022-03-09T14:20:18.084556Z",
     "iopub.status.idle": "2022-03-09T14:20:18.140775Z",
     "shell.execute_reply": "2022-03-09T14:20:18.141311Z",
     "shell.execute_reply.started": "2022-03-09T14:14:00.878595Z"
    },
    "papermill": {
     "duration": 0.11484,
     "end_time": "2022-03-09T14:20:18.141493",
     "exception": false,
     "start_time": "2022-03-09T14:20:18.026653",
     "status": "completed"
    },
    "tags": []
   },
   "outputs": [],
   "source": [
    "from sklearn.model_selection import train_test_split\n",
    "X_train, X_test, y_train, y_test= train_test_split(X, y, test_size=0.2, random_state=42)"
   ]
  },
  {
   "cell_type": "markdown",
   "id": "25e04c31",
   "metadata": {
    "execution": {
     "iopub.execute_input": "2022-03-09T11:38:06.637082Z",
     "iopub.status.busy": "2022-03-09T11:38:06.635996Z",
     "iopub.status.idle": "2022-03-09T11:38:06.641729Z",
     "shell.execute_reply": "2022-03-09T11:38:06.640906Z",
     "shell.execute_reply.started": "2022-03-09T11:38:06.636988Z"
    },
    "papermill": {
     "duration": 0.053944,
     "end_time": "2022-03-09T14:20:18.249568",
     "exception": false,
     "start_time": "2022-03-09T14:20:18.195624",
     "status": "completed"
    },
    "tags": []
   },
   "source": [
    "#logistic reression "
   ]
  },
  {
   "cell_type": "code",
   "execution_count": 21,
   "id": "1fa14773",
   "metadata": {
    "execution": {
     "iopub.execute_input": "2022-03-09T14:20:18.362738Z",
     "iopub.status.busy": "2022-03-09T14:20:18.362075Z",
     "iopub.status.idle": "2022-03-09T14:20:18.606013Z",
     "shell.execute_reply": "2022-03-09T14:20:18.606970Z",
     "shell.execute_reply.started": "2022-03-09T14:14:31.155774Z"
    },
    "papermill": {
     "duration": 0.303689,
     "end_time": "2022-03-09T14:20:18.607318",
     "exception": false,
     "start_time": "2022-03-09T14:20:18.303629",
     "status": "completed"
    },
    "tags": []
   },
   "outputs": [
    {
     "name": "stderr",
     "output_type": "stream",
     "text": [
      "/opt/conda/lib/python3.7/site-packages/sklearn/linear_model/_logistic.py:818: ConvergenceWarning: lbfgs failed to converge (status=1):\n",
      "STOP: TOTAL NO. of ITERATIONS REACHED LIMIT.\n",
      "\n",
      "Increase the number of iterations (max_iter) or scale the data as shown in:\n",
      "    https://scikit-learn.org/stable/modules/preprocessing.html\n",
      "Please also refer to the documentation for alternative solver options:\n",
      "    https://scikit-learn.org/stable/modules/linear_model.html#logistic-regression\n",
      "  extra_warning_msg=_LOGISTIC_SOLVER_CONVERGENCE_MSG,\n"
     ]
    },
    {
     "data": {
      "text/plain": [
       "LogisticRegression()"
      ]
     },
     "execution_count": 21,
     "metadata": {},
     "output_type": "execute_result"
    }
   ],
   "source": [
    "from sklearn.linear_model import LogisticRegression\n",
    "clg = LogisticRegression()\n",
    "# training the model\n",
    "clg.fit(X_train, y_train)"
   ]
  },
  {
   "cell_type": "code",
   "execution_count": 22,
   "id": "f225943c",
   "metadata": {
    "execution": {
     "iopub.execute_input": "2022-03-09T14:20:18.771389Z",
     "iopub.status.busy": "2022-03-09T14:20:18.770659Z",
     "iopub.status.idle": "2022-03-09T14:20:20.164414Z",
     "shell.execute_reply": "2022-03-09T14:20:20.163293Z",
     "shell.execute_reply.started": "2022-03-09T14:14:34.421997Z"
    },
    "papermill": {
     "duration": 1.454473,
     "end_time": "2022-03-09T14:20:20.164685",
     "exception": false,
     "start_time": "2022-03-09T14:20:18.710212",
     "status": "completed"
    },
    "tags": []
   },
   "outputs": [
    {
     "name": "stderr",
     "output_type": "stream",
     "text": [
      "/opt/conda/lib/python3.7/site-packages/sklearn/linear_model/_logistic.py:818: ConvergenceWarning: lbfgs failed to converge (status=1):\n",
      "STOP: TOTAL NO. of ITERATIONS REACHED LIMIT.\n",
      "\n",
      "Increase the number of iterations (max_iter) or scale the data as shown in:\n",
      "    https://scikit-learn.org/stable/modules/preprocessing.html\n",
      "Please also refer to the documentation for alternative solver options:\n",
      "    https://scikit-learn.org/stable/modules/linear_model.html#logistic-regression\n",
      "  extra_warning_msg=_LOGISTIC_SOLVER_CONVERGENCE_MSG,\n",
      "/opt/conda/lib/python3.7/site-packages/sklearn/linear_model/_logistic.py:818: ConvergenceWarning: lbfgs failed to converge (status=1):\n",
      "STOP: TOTAL NO. of ITERATIONS REACHED LIMIT.\n",
      "\n",
      "Increase the number of iterations (max_iter) or scale the data as shown in:\n",
      "    https://scikit-learn.org/stable/modules/preprocessing.html\n",
      "Please also refer to the documentation for alternative solver options:\n",
      "    https://scikit-learn.org/stable/modules/linear_model.html#logistic-regression\n",
      "  extra_warning_msg=_LOGISTIC_SOLVER_CONVERGENCE_MSG,\n",
      "/opt/conda/lib/python3.7/site-packages/sklearn/linear_model/_logistic.py:818: ConvergenceWarning: lbfgs failed to converge (status=1):\n",
      "STOP: TOTAL NO. of ITERATIONS REACHED LIMIT.\n",
      "\n",
      "Increase the number of iterations (max_iter) or scale the data as shown in:\n",
      "    https://scikit-learn.org/stable/modules/preprocessing.html\n",
      "Please also refer to the documentation for alternative solver options:\n",
      "    https://scikit-learn.org/stable/modules/linear_model.html#logistic-regression\n",
      "  extra_warning_msg=_LOGISTIC_SOLVER_CONVERGENCE_MSG,\n",
      "/opt/conda/lib/python3.7/site-packages/sklearn/linear_model/_logistic.py:818: ConvergenceWarning: lbfgs failed to converge (status=1):\n",
      "STOP: TOTAL NO. of ITERATIONS REACHED LIMIT.\n",
      "\n",
      "Increase the number of iterations (max_iter) or scale the data as shown in:\n",
      "    https://scikit-learn.org/stable/modules/preprocessing.html\n",
      "Please also refer to the documentation for alternative solver options:\n",
      "    https://scikit-learn.org/stable/modules/linear_model.html#logistic-regression\n",
      "  extra_warning_msg=_LOGISTIC_SOLVER_CONVERGENCE_MSG,\n",
      "/opt/conda/lib/python3.7/site-packages/sklearn/linear_model/_logistic.py:818: ConvergenceWarning: lbfgs failed to converge (status=1):\n",
      "STOP: TOTAL NO. of ITERATIONS REACHED LIMIT.\n",
      "\n",
      "Increase the number of iterations (max_iter) or scale the data as shown in:\n",
      "    https://scikit-learn.org/stable/modules/preprocessing.html\n",
      "Please also refer to the documentation for alternative solver options:\n",
      "    https://scikit-learn.org/stable/modules/linear_model.html#logistic-regression\n",
      "  extra_warning_msg=_LOGISTIC_SOLVER_CONVERGENCE_MSG,\n",
      "/opt/conda/lib/python3.7/site-packages/sklearn/linear_model/_logistic.py:818: ConvergenceWarning: lbfgs failed to converge (status=1):\n",
      "STOP: TOTAL NO. of ITERATIONS REACHED LIMIT.\n",
      "\n",
      "Increase the number of iterations (max_iter) or scale the data as shown in:\n",
      "    https://scikit-learn.org/stable/modules/preprocessing.html\n",
      "Please also refer to the documentation for alternative solver options:\n",
      "    https://scikit-learn.org/stable/modules/linear_model.html#logistic-regression\n",
      "  extra_warning_msg=_LOGISTIC_SOLVER_CONVERGENCE_MSG,\n",
      "/opt/conda/lib/python3.7/site-packages/sklearn/linear_model/_logistic.py:818: ConvergenceWarning: lbfgs failed to converge (status=1):\n",
      "STOP: TOTAL NO. of ITERATIONS REACHED LIMIT.\n",
      "\n",
      "Increase the number of iterations (max_iter) or scale the data as shown in:\n",
      "    https://scikit-learn.org/stable/modules/preprocessing.html\n",
      "Please also refer to the documentation for alternative solver options:\n",
      "    https://scikit-learn.org/stable/modules/linear_model.html#logistic-regression\n",
      "  extra_warning_msg=_LOGISTIC_SOLVER_CONVERGENCE_MSG,\n",
      "/opt/conda/lib/python3.7/site-packages/sklearn/linear_model/_logistic.py:818: ConvergenceWarning: lbfgs failed to converge (status=1):\n",
      "STOP: TOTAL NO. of ITERATIONS REACHED LIMIT.\n",
      "\n",
      "Increase the number of iterations (max_iter) or scale the data as shown in:\n",
      "    https://scikit-learn.org/stable/modules/preprocessing.html\n",
      "Please also refer to the documentation for alternative solver options:\n",
      "    https://scikit-learn.org/stable/modules/linear_model.html#logistic-regression\n",
      "  extra_warning_msg=_LOGISTIC_SOLVER_CONVERGENCE_MSG,\n"
     ]
    },
    {
     "name": "stdout",
     "output_type": "stream",
     "text": [
      "Cross-Validation Accuracy Scores [0.77155172 0.76724138 0.79454023 0.79597701 0.79280576 0.78417266\n",
      " 0.8057554  0.77697842 0.8        0.8057554 ]\n"
     ]
    },
    {
     "name": "stderr",
     "output_type": "stream",
     "text": [
      "/opt/conda/lib/python3.7/site-packages/sklearn/linear_model/_logistic.py:818: ConvergenceWarning: lbfgs failed to converge (status=1):\n",
      "STOP: TOTAL NO. of ITERATIONS REACHED LIMIT.\n",
      "\n",
      "Increase the number of iterations (max_iter) or scale the data as shown in:\n",
      "    https://scikit-learn.org/stable/modules/preprocessing.html\n",
      "Please also refer to the documentation for alternative solver options:\n",
      "    https://scikit-learn.org/stable/modules/linear_model.html#logistic-regression\n",
      "  extra_warning_msg=_LOGISTIC_SOLVER_CONVERGENCE_MSG,\n",
      "/opt/conda/lib/python3.7/site-packages/sklearn/linear_model/_logistic.py:818: ConvergenceWarning: lbfgs failed to converge (status=1):\n",
      "STOP: TOTAL NO. of ITERATIONS REACHED LIMIT.\n",
      "\n",
      "Increase the number of iterations (max_iter) or scale the data as shown in:\n",
      "    https://scikit-learn.org/stable/modules/preprocessing.html\n",
      "Please also refer to the documentation for alternative solver options:\n",
      "    https://scikit-learn.org/stable/modules/linear_model.html#logistic-regression\n",
      "  extra_warning_msg=_LOGISTIC_SOLVER_CONVERGENCE_MSG,\n"
     ]
    }
   ],
   "source": [
    "from sklearn.model_selection import cross_val_score\n",
    "\n",
    "scores = cross_val_score(clg, X_train, y_train, cv=10)\n",
    "print('Cross-Validation Accuracy Scores', scores)"
   ]
  },
  {
   "cell_type": "code",
   "execution_count": 23,
   "id": "ffca34f5",
   "metadata": {
    "execution": {
     "iopub.execute_input": "2022-03-09T14:20:20.341451Z",
     "iopub.status.busy": "2022-03-09T14:20:20.340698Z",
     "iopub.status.idle": "2022-03-09T14:20:20.349394Z",
     "shell.execute_reply": "2022-03-09T14:20:20.350299Z",
     "shell.execute_reply.started": "2022-03-09T14:14:45.003866Z"
    },
    "papermill": {
     "duration": 0.073186,
     "end_time": "2022-03-09T14:20:20.350586",
     "exception": false,
     "start_time": "2022-03-09T14:20:20.277400",
     "status": "completed"
    },
    "tags": []
   },
   "outputs": [],
   "source": [
    "#predict output\n",
    "y_pred = clg.predict(X_test)\n",
    "y_pred_train = clg.predict(X_train)"
   ]
  },
  {
   "cell_type": "markdown",
   "id": "2ce95478",
   "metadata": {
    "papermill": {
     "duration": 0.062071,
     "end_time": "2022-03-09T14:20:20.520188",
     "exception": false,
     "start_time": "2022-03-09T14:20:20.458117",
     "status": "completed"
    },
    "tags": []
   },
   "source": [
    "finding accuracy"
   ]
  },
  {
   "cell_type": "code",
   "execution_count": 24,
   "id": "18eb9d39",
   "metadata": {
    "execution": {
     "iopub.execute_input": "2022-03-09T14:20:20.640643Z",
     "iopub.status.busy": "2022-03-09T14:20:20.637554Z",
     "iopub.status.idle": "2022-03-09T14:20:20.643533Z",
     "shell.execute_reply": "2022-03-09T14:20:20.644018Z",
     "shell.execute_reply.started": "2022-03-09T14:14:48.382627Z"
    },
    "papermill": {
     "duration": 0.066701,
     "end_time": "2022-03-09T14:20:20.644196",
     "exception": false,
     "start_time": "2022-03-09T14:20:20.577495",
     "status": "completed"
    },
    "tags": []
   },
   "outputs": [],
   "source": [
    "#finding accuracy\n",
    "from sklearn.metrics import accuracy_score\n",
    "accuracy_test= accuracy_score(y_test, y_pred)\n",
    "accuracy_train=accuracy_score(y_train, y_pred_train)"
   ]
  },
  {
   "cell_type": "code",
   "execution_count": 25,
   "id": "48422a2a",
   "metadata": {
    "execution": {
     "iopub.execute_input": "2022-03-09T14:20:20.768696Z",
     "iopub.status.busy": "2022-03-09T14:20:20.767770Z",
     "iopub.status.idle": "2022-03-09T14:20:20.771255Z",
     "shell.execute_reply": "2022-03-09T14:20:20.771749Z",
     "shell.execute_reply.started": "2022-03-09T14:14:49.198279Z"
    },
    "papermill": {
     "duration": 0.06807,
     "end_time": "2022-03-09T14:20:20.771929",
     "exception": false,
     "start_time": "2022-03-09T14:20:20.703859",
     "status": "completed"
    },
    "tags": []
   },
   "outputs": [
    {
     "data": {
      "text/plain": [
       "0.7682576193214491"
      ]
     },
     "execution_count": 25,
     "metadata": {},
     "output_type": "execute_result"
    }
   ],
   "source": [
    "accuracy_test"
   ]
  },
  {
   "cell_type": "code",
   "execution_count": 26,
   "id": "27d971bc",
   "metadata": {
    "execution": {
     "iopub.execute_input": "2022-03-09T14:20:20.892415Z",
     "iopub.status.busy": "2022-03-09T14:20:20.891703Z",
     "iopub.status.idle": "2022-03-09T14:20:20.896925Z",
     "shell.execute_reply": "2022-03-09T14:20:20.897501Z",
     "shell.execute_reply.started": "2022-03-09T14:14:51.678635Z"
    },
    "papermill": {
     "duration": 0.067295,
     "end_time": "2022-03-09T14:20:20.897684",
     "exception": false,
     "start_time": "2022-03-09T14:20:20.830389",
     "status": "completed"
    },
    "tags": []
   },
   "outputs": [
    {
     "data": {
      "text/plain": [
       "0.7888984756974403"
      ]
     },
     "execution_count": 26,
     "metadata": {},
     "output_type": "execute_result"
    }
   ],
   "source": [
    "accuracy_train"
   ]
  },
  {
   "cell_type": "code",
   "execution_count": 27,
   "id": "6c9e78d9",
   "metadata": {
    "execution": {
     "iopub.execute_input": "2022-03-09T14:20:21.018883Z",
     "iopub.status.busy": "2022-03-09T14:20:21.018206Z",
     "iopub.status.idle": "2022-03-09T14:20:21.264909Z",
     "shell.execute_reply": "2022-03-09T14:20:21.265522Z",
     "shell.execute_reply.started": "2022-03-09T14:14:56.144825Z"
    },
    "papermill": {
     "duration": 0.308814,
     "end_time": "2022-03-09T14:20:21.265719",
     "exception": false,
     "start_time": "2022-03-09T14:20:20.956905",
     "status": "completed"
    },
    "tags": []
   },
   "outputs": [
    {
     "data": {
      "text/plain": [
       "Text(0.5, 1.0, 'Confusion Matrix')"
      ]
     },
     "execution_count": 27,
     "metadata": {},
     "output_type": "execute_result"
    },
    {
     "data": {
      "image/png": "[encoded data removed]",
      "text/plain": [
       "<Figure size 432x288 with 2 Axes>"
      ]
     },
     "metadata": {
      "needs_background": "light"
     },
     "output_type": "display_data"
    }
   ],
   "source": [
    "#confusion matrix\n",
    "from sklearn.metrics import confusion_matrix\n",
    "cf = confusion_matrix(y_test, y_pred)\n",
    "plt.figure()\n",
    "sns.heatmap(cf, annot=True)\n",
    "plt.xlabel('Prediction')\n",
    "plt.ylabel('Target')\n",
    "plt.title('Confusion Matrix')"
   ]
  },
  {
   "cell_type": "markdown",
   "id": "ae9651eb",
   "metadata": {
    "execution": {
     "iopub.execute_input": "2022-03-09T11:39:55.905956Z",
     "iopub.status.busy": "2022-03-09T11:39:55.905637Z",
     "iopub.status.idle": "2022-03-09T11:39:55.911074Z",
     "shell.execute_reply": "2022-03-09T11:39:55.909878Z",
     "shell.execute_reply.started": "2022-03-09T11:39:55.905924Z"
    },
    "papermill": {
     "duration": 0.060156,
     "end_time": "2022-03-09T14:20:21.386641",
     "exception": false,
     "start_time": "2022-03-09T14:20:21.326485",
     "status": "completed"
    },
    "tags": []
   },
   "source": [
    "#2 random forest"
   ]
  },
  {
   "cell_type": "code",
   "execution_count": 28,
   "id": "b778b2b3",
   "metadata": {
    "execution": {
     "iopub.execute_input": "2022-03-09T14:20:21.510526Z",
     "iopub.status.busy": "2022-03-09T14:20:21.509804Z",
     "iopub.status.idle": "2022-03-09T14:20:22.166314Z",
     "shell.execute_reply": "2022-03-09T14:20:22.165740Z",
     "shell.execute_reply.started": "2022-03-09T14:15:11.716539Z"
    },
    "papermill": {
     "duration": 0.719991,
     "end_time": "2022-03-09T14:20:22.166479",
     "exception": false,
     "start_time": "2022-03-09T14:20:21.446488",
     "status": "completed"
    },
    "tags": []
   },
   "outputs": [
    {
     "data": {
      "text/plain": [
       "RandomForestClassifier(max_depth=4, random_state=0)"
      ]
     },
     "execution_count": 28,
     "metadata": {},
     "output_type": "execute_result"
    }
   ],
   "source": [
    "from sklearn.ensemble import RandomForestClassifier\n",
    "from sklearn.datasets import make_classification\n",
    "X, y = make_classification(n_samples=1000, n_features=13, n_informative=2, n_redundant=0,random_state=0, shuffle=False)\n",
    "ran= RandomForestClassifier(max_depth=4, random_state=0)\n",
    "ran.fit(X_train, y_train)"
   ]
  },
  {
   "cell_type": "code",
   "execution_count": 29,
   "id": "4616a7e3",
   "metadata": {
    "execution": {
     "iopub.execute_input": "2022-03-09T14:20:22.294684Z",
     "iopub.status.busy": "2022-03-09T14:20:22.293983Z",
     "iopub.status.idle": "2022-03-09T14:20:22.315978Z",
     "shell.execute_reply": "2022-03-09T14:20:22.316828Z",
     "shell.execute_reply.started": "2022-03-09T14:15:16.704015Z"
    },
    "papermill": {
     "duration": 0.089525,
     "end_time": "2022-03-09T14:20:22.317068",
     "exception": false,
     "start_time": "2022-03-09T14:20:22.227543",
     "status": "completed"
    },
    "tags": []
   },
   "outputs": [
    {
     "name": "stdout",
     "output_type": "stream",
     "text": [
      "[False]\n"
     ]
    },
    {
     "name": "stderr",
     "output_type": "stream",
     "text": [
      "/opt/conda/lib/python3.7/site-packages/sklearn/base.py:446: UserWarning: X does not have valid feature names, but RandomForestClassifier was fitted with feature names\n",
      "  \"X does not have valid feature names, but\"\n"
     ]
    }
   ],
   "source": [
    "print(ran.predict([[1,0,2,35.0,1,109.0,9.0,25.0,549.0,44.0,5,0,1]]))"
   ]
  },
  {
   "cell_type": "code",
   "execution_count": 30,
   "id": "81d26b20",
   "metadata": {
    "execution": {
     "iopub.execute_input": "2022-03-09T14:20:22.443590Z",
     "iopub.status.busy": "2022-03-09T14:20:22.442836Z",
     "iopub.status.idle": "2022-03-09T14:20:22.536486Z",
     "shell.execute_reply": "2022-03-09T14:20:22.537067Z",
     "shell.execute_reply.started": "2022-03-09T14:15:20.080995Z"
    },
    "papermill": {
     "duration": 0.157967,
     "end_time": "2022-03-09T14:20:22.537246",
     "exception": false,
     "start_time": "2022-03-09T14:20:22.379279",
     "status": "completed"
    },
    "tags": []
   },
   "outputs": [],
   "source": [
    "y_pred = ran.predict(X_test)\n",
    "y_pred_train = ran.predict(X_train)"
   ]
  },
  {
   "cell_type": "code",
   "execution_count": 31,
   "id": "b8e01c4b",
   "metadata": {
    "execution": {
     "iopub.execute_input": "2022-03-09T14:20:22.663521Z",
     "iopub.status.busy": "2022-03-09T14:20:22.662869Z",
     "iopub.status.idle": "2022-03-09T14:20:22.668036Z",
     "shell.execute_reply": "2022-03-09T14:20:22.668562Z",
     "shell.execute_reply.started": "2022-03-09T14:15:24.854316Z"
    },
    "papermill": {
     "duration": 0.070294,
     "end_time": "2022-03-09T14:20:22.668753",
     "exception": false,
     "start_time": "2022-03-09T14:20:22.598459",
     "status": "completed"
    },
    "tags": []
   },
   "outputs": [],
   "source": [
    "from sklearn.metrics import accuracy_score\n",
    "accuracy_test= accuracy_score(y_test, y_pred)\n",
    "accuracy_train=accuracy_score(y_train, y_pred_train)"
   ]
  },
  {
   "cell_type": "code",
   "execution_count": 32,
   "id": "f3f754d5",
   "metadata": {
    "execution": {
     "iopub.execute_input": "2022-03-09T14:20:22.794578Z",
     "iopub.status.busy": "2022-03-09T14:20:22.793876Z",
     "iopub.status.idle": "2022-03-09T14:20:22.797919Z",
     "shell.execute_reply": "2022-03-09T14:20:22.798404Z",
     "shell.execute_reply.started": "2022-03-09T14:15:26.190429Z"
    },
    "papermill": {
     "duration": 0.068685,
     "end_time": "2022-03-09T14:20:22.798576",
     "exception": false,
     "start_time": "2022-03-09T14:20:22.729891",
     "status": "completed"
    },
    "tags": []
   },
   "outputs": [
    {
     "data": {
      "text/plain": [
       "0.7717078780908568"
      ]
     },
     "execution_count": 32,
     "metadata": {},
     "output_type": "execute_result"
    }
   ],
   "source": [
    "accuracy_test"
   ]
  },
  {
   "cell_type": "code",
   "execution_count": 33,
   "id": "41863b0a",
   "metadata": {
    "execution": {
     "iopub.execute_input": "2022-03-09T14:20:22.929567Z",
     "iopub.status.busy": "2022-03-09T14:20:22.926651Z",
     "iopub.status.idle": "2022-03-09T14:20:22.932367Z",
     "shell.execute_reply": "2022-03-09T14:20:22.932819Z",
     "shell.execute_reply.started": "2022-03-09T14:15:27.762896Z"
    },
    "papermill": {
     "duration": 0.072174,
     "end_time": "2022-03-09T14:20:22.933014",
     "exception": false,
     "start_time": "2022-03-09T14:20:22.860840",
     "status": "completed"
    },
    "tags": []
   },
   "outputs": [
    {
     "data": {
      "text/plain": [
       "0.776962899050906"
      ]
     },
     "execution_count": 33,
     "metadata": {},
     "output_type": "execute_result"
    }
   ],
   "source": [
    "accuracy_train"
   ]
  },
  {
   "cell_type": "code",
   "execution_count": 34,
   "id": "9ffd6271",
   "metadata": {
    "execution": {
     "iopub.execute_input": "2022-03-09T14:20:23.062225Z",
     "iopub.status.busy": "2022-03-09T14:20:23.061494Z",
     "iopub.status.idle": "2022-03-09T14:20:27.288396Z",
     "shell.execute_reply": "2022-03-09T14:20:27.288929Z",
     "shell.execute_reply.started": "2022-03-09T14:16:06.456506Z"
    },
    "papermill": {
     "duration": 4.294189,
     "end_time": "2022-03-09T14:20:27.289119",
     "exception": false,
     "start_time": "2022-03-09T14:20:22.994930",
     "status": "completed"
    },
    "tags": []
   },
   "outputs": [
    {
     "name": "stdout",
     "output_type": "stream",
     "text": [
      "Cross-Validation Accuracy Scores [0.75862069 0.76149425 0.75287356 0.78591954 0.77410072 0.76402878\n",
      " 0.78129496 0.75971223 0.78561151 0.78273381]\n"
     ]
    }
   ],
   "source": [
    "from sklearn.model_selection import cross_val_score\n",
    "\n",
    "scores = cross_val_score(ran, X_train, y_train, cv=10)\n",
    "print('Cross-Validation Accuracy Scores', scores)"
   ]
  },
  {
   "cell_type": "code",
   "execution_count": 35,
   "id": "41cbf552",
   "metadata": {
    "execution": {
     "iopub.execute_input": "2022-03-09T14:20:27.422504Z",
     "iopub.status.busy": "2022-03-09T14:20:27.421655Z",
     "iopub.status.idle": "2022-03-09T14:20:27.424160Z",
     "shell.execute_reply": "2022-03-09T14:20:27.423638Z",
     "shell.execute_reply.started": "2022-03-09T14:16:39.571910Z"
    },
    "papermill": {
     "duration": 0.071461,
     "end_time": "2022-03-09T14:20:27.424312",
     "exception": false,
     "start_time": "2022-03-09T14:20:27.352851",
     "status": "completed"
    },
    "tags": []
   },
   "outputs": [],
   "source": [
    "score_final=scores.mean()"
   ]
  },
  {
   "cell_type": "code",
   "execution_count": 36,
   "id": "16ce8058",
   "metadata": {
    "execution": {
     "iopub.execute_input": "2022-03-09T14:20:27.553283Z",
     "iopub.status.busy": "2022-03-09T14:20:27.552561Z",
     "iopub.status.idle": "2022-03-09T14:20:27.557691Z",
     "shell.execute_reply": "2022-03-09T14:20:27.558293Z",
     "shell.execute_reply.started": "2022-03-09T14:16:46.855110Z"
    },
    "papermill": {
     "duration": 0.071269,
     "end_time": "2022-03-09T14:20:27.558489",
     "exception": false,
     "start_time": "2022-03-09T14:20:27.487220",
     "status": "completed"
    },
    "tags": []
   },
   "outputs": [
    {
     "data": {
      "text/plain": [
       "0.7706390060365501"
      ]
     },
     "execution_count": 36,
     "metadata": {},
     "output_type": "execute_result"
    }
   ],
   "source": [
    "score_final"
   ]
  },
  {
   "cell_type": "code",
   "execution_count": 37,
   "id": "162e531f",
   "metadata": {
    "execution": {
     "iopub.execute_input": "2022-03-09T14:20:27.688303Z",
     "iopub.status.busy": "2022-03-09T14:20:27.687561Z",
     "iopub.status.idle": "2022-03-09T14:20:27.695760Z",
     "shell.execute_reply": "2022-03-09T14:20:27.696277Z",
     "shell.execute_reply.started": "2022-03-09T14:16:54.494255Z"
    },
    "papermill": {
     "duration": 0.075365,
     "end_time": "2022-03-09T14:20:27.696457",
     "exception": false,
     "start_time": "2022-03-09T14:20:27.621092",
     "status": "completed"
    },
    "tags": []
   },
   "outputs": [
    {
     "data": {
      "text/html": [
       "<div>\n",
       "<style scoped>\n",
       "    .dataframe tbody tr th:only-of-type {\n",
       "        vertical-align: middle;\n",
       "    }\n",
       "\n",
       "    .dataframe tbody tr th {\n",
       "        vertical-align: top;\n",
       "    }\n",
       "\n",
       "    .dataframe thead th {\n",
       "        text-align: right;\n",
       "    }\n",
       "</style>\n",
       "<table border=\"1\" class=\"dataframe\">\n",
       "  <thead>\n",
       "    <tr style=\"text-align: right;\">\n",
       "      <th></th>\n",
       "      <th>Transported</th>\n",
       "    </tr>\n",
       "  </thead>\n",
       "  <tbody>\n",
       "    <tr>\n",
       "      <th>0</th>\n",
       "      <td>False</td>\n",
       "    </tr>\n",
       "    <tr>\n",
       "      <th>1</th>\n",
       "      <td>False</td>\n",
       "    </tr>\n",
       "    <tr>\n",
       "      <th>2</th>\n",
       "      <td>True</td>\n",
       "    </tr>\n",
       "    <tr>\n",
       "      <th>3</th>\n",
       "      <td>False</td>\n",
       "    </tr>\n",
       "    <tr>\n",
       "      <th>4</th>\n",
       "      <td>True</td>\n",
       "    </tr>\n",
       "  </tbody>\n",
       "</table>\n",
       "</div>"
      ],
      "text/plain": [
       "   Transported\n",
       "0        False\n",
       "1        False\n",
       "2         True\n",
       "3        False\n",
       "4         True"
      ]
     },
     "execution_count": 37,
     "metadata": {},
     "output_type": "execute_result"
    }
   ],
   "source": [
    "df = pd.DataFrame(y_pred,columns=['Transported'])\n",
    "df.head()"
   ]
  },
  {
   "cell_type": "code",
   "execution_count": 38,
   "id": "37b59ad7",
   "metadata": {
    "execution": {
     "iopub.execute_input": "2022-03-09T14:20:27.830616Z",
     "iopub.status.busy": "2022-03-09T14:20:27.829908Z",
     "iopub.status.idle": "2022-03-09T14:20:27.848356Z",
     "shell.execute_reply": "2022-03-09T14:20:27.848963Z",
     "shell.execute_reply.started": "2022-03-09T14:16:58.727202Z"
    },
    "papermill": {
     "duration": 0.089422,
     "end_time": "2022-03-09T14:20:27.849212",
     "exception": false,
     "start_time": "2022-03-09T14:20:27.759790",
     "status": "completed"
    },
    "tags": []
   },
   "outputs": [
    {
     "data": {
      "text/html": [
       "<div>\n",
       "<style scoped>\n",
       "    .dataframe tbody tr th:only-of-type {\n",
       "        vertical-align: middle;\n",
       "    }\n",
       "\n",
       "    .dataframe tbody tr th {\n",
       "        vertical-align: top;\n",
       "    }\n",
       "\n",
       "    .dataframe thead th {\n",
       "        text-align: right;\n",
       "    }\n",
       "</style>\n",
       "<table border=\"1\" class=\"dataframe\">\n",
       "  <thead>\n",
       "    <tr style=\"text-align: right;\">\n",
       "      <th></th>\n",
       "      <th>PassengerId</th>\n",
       "      <th>Transported</th>\n",
       "    </tr>\n",
       "  </thead>\n",
       "  <tbody>\n",
       "    <tr>\n",
       "      <th>0</th>\n",
       "      <td>0013_01</td>\n",
       "      <td>False</td>\n",
       "    </tr>\n",
       "    <tr>\n",
       "      <th>1</th>\n",
       "      <td>0018_01</td>\n",
       "      <td>False</td>\n",
       "    </tr>\n",
       "    <tr>\n",
       "      <th>2</th>\n",
       "      <td>0019_01</td>\n",
       "      <td>False</td>\n",
       "    </tr>\n",
       "    <tr>\n",
       "      <th>3</th>\n",
       "      <td>0021_01</td>\n",
       "      <td>False</td>\n",
       "    </tr>\n",
       "    <tr>\n",
       "      <th>4</th>\n",
       "      <td>0023_01</td>\n",
       "      <td>False</td>\n",
       "    </tr>\n",
       "  </tbody>\n",
       "</table>\n",
       "</div>"
      ],
      "text/plain": [
       "  PassengerId  Transported\n",
       "0     0013_01        False\n",
       "1     0018_01        False\n",
       "2     0019_01        False\n",
       "3     0021_01        False\n",
       "4     0023_01        False"
      ]
     },
     "execution_count": 38,
     "metadata": {},
     "output_type": "execute_result"
    }
   ],
   "source": [
    "#submission file\n",
    "subm=pd.read_csv('../input/spaceship-titanic/sample_submission.csv')\n",
    "subm.head()"
   ]
  },
  {
   "cell_type": "code",
   "execution_count": 39,
   "id": "ed27c37b",
   "metadata": {
    "execution": {
     "iopub.execute_input": "2022-03-09T14:20:27.985299Z",
     "iopub.status.busy": "2022-03-09T14:20:27.984608Z",
     "iopub.status.idle": "2022-03-09T14:20:27.992474Z",
     "shell.execute_reply": "2022-03-09T14:20:27.993019Z",
     "shell.execute_reply.started": "2022-03-09T14:17:00.409942Z"
    },
    "papermill": {
     "duration": 0.078708,
     "end_time": "2022-03-09T14:20:27.993210",
     "exception": false,
     "start_time": "2022-03-09T14:20:27.914502",
     "status": "completed"
    },
    "tags": []
   },
   "outputs": [
    {
     "data": {
      "text/html": [
       "<div>\n",
       "<style scoped>\n",
       "    .dataframe tbody tr th:only-of-type {\n",
       "        vertical-align: middle;\n",
       "    }\n",
       "\n",
       "    .dataframe tbody tr th {\n",
       "        vertical-align: top;\n",
       "    }\n",
       "\n",
       "    .dataframe thead th {\n",
       "        text-align: right;\n",
       "    }\n",
       "</style>\n",
       "<table border=\"1\" class=\"dataframe\">\n",
       "  <thead>\n",
       "    <tr style=\"text-align: right;\">\n",
       "      <th></th>\n",
       "      <th>PassengerId</th>\n",
       "      <th>Transported</th>\n",
       "    </tr>\n",
       "  </thead>\n",
       "  <tbody>\n",
       "    <tr>\n",
       "      <th>0</th>\n",
       "      <td>0013_01</td>\n",
       "      <td>False</td>\n",
       "    </tr>\n",
       "    <tr>\n",
       "      <th>1</th>\n",
       "      <td>0018_01</td>\n",
       "      <td>False</td>\n",
       "    </tr>\n",
       "    <tr>\n",
       "      <th>2</th>\n",
       "      <td>0019_01</td>\n",
       "      <td>True</td>\n",
       "    </tr>\n",
       "    <tr>\n",
       "      <th>3</th>\n",
       "      <td>0021_01</td>\n",
       "      <td>False</td>\n",
       "    </tr>\n",
       "    <tr>\n",
       "      <th>4</th>\n",
       "      <td>0023_01</td>\n",
       "      <td>True</td>\n",
       "    </tr>\n",
       "  </tbody>\n",
       "</table>\n",
       "</div>"
      ],
      "text/plain": [
       "  PassengerId Transported\n",
       "0     0013_01       False\n",
       "1     0018_01       False\n",
       "2     0019_01        True\n",
       "3     0021_01       False\n",
       "4     0023_01        True"
      ]
     },
     "execution_count": 39,
     "metadata": {},
     "output_type": "execute_result"
    }
   ],
   "source": [
    "subm['Transported']=df['Transported']\n",
    "subm.head()"
   ]
  },
  {
   "cell_type": "markdown",
   "id": "beeecef0",
   "metadata": {
    "papermill": {
     "duration": 0.063771,
     "end_time": "2022-03-09T14:20:28.124489",
     "exception": false,
     "start_time": "2022-03-09T14:20:28.060718",
     "status": "completed"
    },
    "tags": []
   },
   "source": [
    "submission file"
   ]
  },
  {
   "cell_type": "code",
   "execution_count": 40,
   "id": "2112fe1a",
   "metadata": {
    "execution": {
     "iopub.execute_input": "2022-03-09T14:20:28.255785Z",
     "iopub.status.busy": "2022-03-09T14:20:28.255052Z",
     "iopub.status.idle": "2022-03-09T14:20:28.270079Z",
     "shell.execute_reply": "2022-03-09T14:20:28.270558Z",
     "shell.execute_reply.started": "2022-03-09T14:17:08.394338Z"
    },
    "papermill": {
     "duration": 0.08265,
     "end_time": "2022-03-09T14:20:28.270743",
     "exception": false,
     "start_time": "2022-03-09T14:20:28.188093",
     "status": "completed"
    },
    "tags": []
   },
   "outputs": [],
   "source": [
    "subm.to_csv('./submission.csv',index=False)"
   ]
  },
  {
   "cell_type": "code",
   "execution_count": null,
   "id": "8d518d98",
   "metadata": {
    "papermill": {
     "duration": 0.064027,
     "end_time": "2022-03-09T14:20:28.401236",
     "exception": false,
     "start_time": "2022-03-09T14:20:28.337209",
     "status": "completed"
    },
    "tags": []
   },
   "outputs": [],
   "source": []
  }
 ],
 "metadata": {
  "kernelspec": {
   "display_name": "Python 3",
   "language": "python",
   "name": "python3"
  },
  "language_info": {
   "codemirror_mode": {
    "name": "ipython",
    "version": 3
   },
   "file_extension": ".py",
   "mimetype": "text/x-python",
   "name": "python",
   "nbconvert_exporter": "python",
   "pygments_lexer": "ipython3",
   "version": "3.7.12"
  },
  "papermill": {
   "default_parameters": {},
   "duration": 27.115015,
   "end_time": "2022-03-09T14:20:29.278573",
   "environment_variables": {},
   "exception": null,
   "input_path": "__notebook__.ipynb",
   "output_path": "__notebook__.ipynb",
   "parameters": {},
   "start_time": "2022-03-09T14:20:02.163558",
   "version": "2.3.3"
  }
 },
 "nbformat": 4,
 "nbformat_minor": 5
}
